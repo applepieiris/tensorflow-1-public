{
  "cells": [
    {
      "cell_type": "markdown",
      "metadata": {
        "id": "bFWbEb6uGbN-"
      },
      "source": [
        "# Week 4: Predicting the next word\n",
        "\n",
        "Welcome to this assignment! During this week you saw how to create a model that will predict the next word in a text sequence, now you will implement such model and train it using a corpus of Shakespeare's sonnets, while also creating some helper functions to pre-process the data.\n",
        "\n",
        "\n",
        "Let's get started!"
      ]
    },
    {
      "cell_type": "code",
      "execution_count": 1,
      "metadata": {
        "id": "BOwsuGQQY9OL"
      },
      "outputs": [],
      "source": [
        "import numpy as np \n",
        "import matplotlib.pyplot as plt\n",
        "from tensorflow.keras.models import Sequential\n",
        "from tensorflow.keras.utils import to_categorical \n",
        "from tensorflow.keras.preprocessing.text import Tokenizer\n",
        "from tensorflow.keras.preprocessing.sequence import pad_sequences\n",
        "from tensorflow.keras.layers import Embedding, LSTM, Dense, Bidirectional"
      ]
    },
    {
      "cell_type": "markdown",
      "metadata": {
        "id": "BTxqlHqKHzhr"
      },
      "source": [
        "For this assignment you will be using the [Shakespeare Sonnets Dataset](https://www.opensourceshakespeare.org/views/sonnets/sonnet_view.php?range=viewrange&sonnetrange1=1&sonnetrange2=154), which contains more than 2000 lines of text extracted from Shakespeare's sonnets."
      ]
    },
    {
      "cell_type": "code",
      "execution_count": 2,
      "metadata": {
        "id": "WZ4qOUzujMP6",
        "outputId": "02ae1deb-9313-45d1-f784-4b452fca0c52",
        "colab": {
          "base_uri": "https://localhost:8080/"
        }
      },
      "outputs": [
        {
          "output_type": "stream",
          "name": "stdout",
          "text": [
            "/usr/local/lib/python3.7/dist-packages/gdown/cli.py:131: FutureWarning: Option `--id` was deprecated in version 4.3.1 and will be removed in 5.0. You don't need to pass it anymore to use a file ID.\n",
            "  category=FutureWarning,\n",
            "Downloading...\n",
            "From: https://drive.google.com/uc?id=108jAePKK4R3BVYBbYJZ32JWUwxeMg20K\n",
            "To: /content/sonnets.txt\n",
            "100% 93.6k/93.6k [00:00<00:00, 82.2MB/s]\n"
          ]
        }
      ],
      "source": [
        "# sonnets.txt\n",
        "!gdown --id 108jAePKK4R3BVYBbYJZ32JWUwxeMg20K"
      ]
    },
    {
      "cell_type": "code",
      "execution_count": 3,
      "metadata": {
        "id": "Pfd-nYKij5yY",
        "outputId": "8daa4255-5059-489f-f5a7-7508aadf6cae",
        "colab": {
          "base_uri": "https://localhost:8080/"
        }
      },
      "outputs": [
        {
          "output_type": "stream",
          "name": "stdout",
          "text": [
            "There are 2159 lines of sonnets\n",
            "\n",
            "The first 5 lines look like this:\n",
            "\n",
            "from fairest creatures we desire increase,\n",
            "that thereby beauty's rose might never die,\n",
            "but as the riper should by time decease,\n",
            "his tender heir might bear his memory:\n",
            "but thou, contracted to thine own bright eyes,\n"
          ]
        }
      ],
      "source": [
        "# Define path for file with sonnets\n",
        "SONNETS_FILE = './sonnets.txt'\n",
        "\n",
        "# Read the data\n",
        "with open('./sonnets.txt') as f:\n",
        "    data = f.read()\n",
        "\n",
        "# Convert to lower case and save as a list\n",
        "corpus = data.lower().split(\"\\n\")\n",
        "\n",
        "print(f\"There are {len(corpus)} lines of sonnets\\n\")\n",
        "print(f\"The first 5 lines look like this:\\n\")\n",
        "for i in range(5):\n",
        "  print(corpus[i])"
      ]
    },
    {
      "cell_type": "markdown",
      "metadata": {
        "id": "imB15zrSNhA1"
      },
      "source": [
        "## Tokenizing the text\n",
        "\n",
        "Now fit the Tokenizer to the corpus and save the total number of words."
      ]
    },
    {
      "cell_type": "code",
      "execution_count": 4,
      "metadata": {
        "id": "AAhM_qAZk0o5"
      },
      "outputs": [],
      "source": [
        "tokenizer = Tokenizer()\n",
        "tokenizer.fit_on_texts(corpus)\n",
        "total_words = len(tokenizer.word_index) + 1"
      ]
    },
    {
      "cell_type": "markdown",
      "metadata": {
        "id": "77-0sA46OETa"
      },
      "source": [
        "When converting the text into sequences you can use the `texts_to_sequences` method as you have done throughout this course.\n",
        "\n",
        "In the next graded function you will need to process this corpus one line at a time. Given this, it is important to keep in mind that the way you are feeding the data unto this method affects the result. Check the following example to make this clearer.\n",
        "\n",
        "The first example of the corpus is a string and looks like this:"
      ]
    },
    {
      "cell_type": "code",
      "execution_count": 5,
      "metadata": {
        "id": "tqhPxdeXlfjh",
        "outputId": "0c323aa7-65d8-4d65-bbc7-ab5bc32e0ead",
        "colab": {
          "base_uri": "https://localhost:8080/",
          "height": 35
        }
      },
      "outputs": [
        {
          "output_type": "execute_result",
          "data": {
            "text/plain": [
              "'from fairest creatures we desire increase,'"
            ],
            "application/vnd.google.colaboratory.intrinsic+json": {
              "type": "string"
            }
          },
          "metadata": {},
          "execution_count": 5
        }
      ],
      "source": [
        "corpus[0]"
      ]
    },
    {
      "cell_type": "markdown",
      "metadata": {
        "id": "XFMP4z11O3os"
      },
      "source": [
        "If you pass this text directly into the `texts_to_sequences` method you will get an unexpected result:"
      ]
    },
    {
      "cell_type": "code",
      "execution_count": null,
      "metadata": {
        "id": "EMSEhmbzNZCE"
      },
      "outputs": [],
      "source": [
        "tokenizer.texts_to_sequences(corpus[0]) # 这种方式不正确，是因为texts_to_sequence()的期望输入是一个List,而不是一个string。"
      ]
    },
    {
      "cell_type": "markdown",
      "metadata": {
        "id": "pPZmZtpEPEeI"
      },
      "source": [
        "This happened because `texts_to_sequences` expects a list and you are providing a string. However a string is still and `iterable` in Python so you will get the word index of every character in the string.\n",
        "\n",
        "Instead you need to place the example whithin a list before passing it to the method:"
      ]
    },
    {
      "cell_type": "code",
      "execution_count": 8,
      "metadata": {
        "id": "Qmgo-vXhk4nd",
        "outputId": "43eb56ca-9591-4b3e-d759-8d097064f8a1",
        "colab": {
          "base_uri": "https://localhost:8080/"
        }
      },
      "outputs": [
        {
          "output_type": "execute_result",
          "data": {
            "text/plain": [
              "[[34, 417, 877, 166, 213, 517]]"
            ]
          },
          "metadata": {},
          "execution_count": 8
        }
      ],
      "source": [
        "tokenizer.texts_to_sequences([corpus[0]]) # 这种方式才会得到正确的token"
      ]
    },
    {
      "cell_type": "markdown",
      "metadata": {
        "id": "0DU7wK-eQ5dc"
      },
      "source": [
        "Notice that you received the sequence wrapped inside a list so in order to get only the desired sequence you need to explicitly get the first item in the list like this:"
      ]
    },
    {
      "cell_type": "code",
      "execution_count": 9,
      "metadata": {
        "id": "kpTy8WmIQ57P",
        "outputId": "8a6c2793-43bc-4469-dfd9-c535d8da6e51",
        "colab": {
          "base_uri": "https://localhost:8080/"
        }
      },
      "outputs": [
        {
          "output_type": "execute_result",
          "data": {
            "text/plain": [
              "[34, 417, 877, 166, 213, 517]"
            ]
          },
          "metadata": {},
          "execution_count": 9
        }
      ],
      "source": [
        "tokenizer.texts_to_sequences([corpus[0]])[0]"
      ]
    },
    {
      "cell_type": "markdown",
      "metadata": {
        "id": "-oqy9KjXRJ9A"
      },
      "source": [
        "## Generating n_grams\n",
        "\n",
        "Now complete the `n_gram_seqs` function below. This function receives the fitted tokenizer and the corpus (which is a list of strings) and should return a list containing the `n_gram` sequences for each line in the corpus:"
      ]
    },
    {
      "cell_type": "code",
      "execution_count": 12,
      "metadata": {
        "id": "iy4baJMDl6kj"
      },
      "outputs": [],
      "source": [
        "# GRADED FUNCTION: n_gram_seqs\n",
        "def n_gram_seqs(corpus, tokenizer):\n",
        "\tinput_sequences = []\n",
        "\n",
        "\tfor line in corpus:\n",
        "\t\t\n",
        "\t\t\t\ttoken_list = tokenizer.texts_to_sequences([line])[0]\n",
        "\n",
        "\t\t\t\tfor i in range(1, len(token_list)):\n",
        "\t\t\t\t\t\tn_gram_sequence = token_list[:i+1]\n",
        "\t\t\t\t\t\tinput_sequences.append(n_gram_sequence)\n",
        "\t\t\n",
        "\treturn input_sequences"
      ]
    },
    {
      "cell_type": "code",
      "execution_count": 13,
      "metadata": {
        "id": "DlKqW2pfM7G3",
        "outputId": "4597b4be-aa82-45c5-e991-1a9aaed6875b",
        "colab": {
          "base_uri": "https://localhost:8080/"
        }
      },
      "outputs": [
        {
          "output_type": "stream",
          "name": "stdout",
          "text": [
            "n_gram sequences for first example look like this:\n",
            "\n"
          ]
        },
        {
          "output_type": "execute_result",
          "data": {
            "text/plain": [
              "[[34, 417],\n",
              " [34, 417, 877],\n",
              " [34, 417, 877, 166],\n",
              " [34, 417, 877, 166, 213],\n",
              " [34, 417, 877, 166, 213, 517]]"
            ]
          },
          "metadata": {},
          "execution_count": 13
        }
      ],
      "source": [
        "# Test your function with one example\n",
        "first_example_sequence = n_gram_seqs([corpus[0]], tokenizer)\n",
        "\n",
        "print(\"n_gram sequences for first example look like this:\\n\")\n",
        "first_example_sequence"
      ]
    },
    {
      "cell_type": "markdown",
      "metadata": {
        "id": "0HL8Ug6UU0Jt"
      },
      "source": [
        "**Expected Output:**\n",
        "\n",
        "```\n",
        "n_gram sequences for first example look like this:\n",
        "\n",
        "[[34, 417],\n",
        " [34, 417, 877],\n",
        " [34, 417, 877, 166],\n",
        " [34, 417, 877, 166, 213],\n",
        " [34, 417, 877, 166, 213, 517]]\n",
        "```"
      ]
    },
    {
      "cell_type": "code",
      "execution_count": 14,
      "metadata": {
        "id": "wtPpCcBjNc4c",
        "outputId": "6bea0c2e-ecef-4ea1-fab6-1cfc9c7de9e3",
        "colab": {
          "base_uri": "https://localhost:8080/"
        }
      },
      "outputs": [
        {
          "output_type": "stream",
          "name": "stdout",
          "text": [
            "n_gram sequences for next 3 examples look like this:\n",
            "\n"
          ]
        },
        {
          "output_type": "execute_result",
          "data": {
            "text/plain": [
              "[[8, 878],\n",
              " [8, 878, 134],\n",
              " [8, 878, 134, 351],\n",
              " [8, 878, 134, 351, 102],\n",
              " [8, 878, 134, 351, 102, 156],\n",
              " [8, 878, 134, 351, 102, 156, 199],\n",
              " [16, 22],\n",
              " [16, 22, 2],\n",
              " [16, 22, 2, 879],\n",
              " [16, 22, 2, 879, 61],\n",
              " [16, 22, 2, 879, 61, 30],\n",
              " [16, 22, 2, 879, 61, 30, 48],\n",
              " [16, 22, 2, 879, 61, 30, 48, 634],\n",
              " [25, 311],\n",
              " [25, 311, 635],\n",
              " [25, 311, 635, 102],\n",
              " [25, 311, 635, 102, 200],\n",
              " [25, 311, 635, 102, 200, 25],\n",
              " [25, 311, 635, 102, 200, 25, 278]]"
            ]
          },
          "metadata": {},
          "execution_count": 14
        }
      ],
      "source": [
        "# Test your function with a bigger corpus\n",
        "next_3_examples_sequence = n_gram_seqs(corpus[1:4], tokenizer)\n",
        "\n",
        "print(\"n_gram sequences for next 3 examples look like this:\\n\")\n",
        "next_3_examples_sequence"
      ]
    },
    {
      "cell_type": "markdown",
      "metadata": {
        "id": "EIzecMczU9UB"
      },
      "source": [
        "**Expected Output:**\n",
        "\n",
        "```\n",
        "n_gram sequences for next 3 examples look like this:\n",
        "\n",
        "[[8, 878],\n",
        " [8, 878, 134],\n",
        " [8, 878, 134, 351],\n",
        " [8, 878, 134, 351, 102],\n",
        " [8, 878, 134, 351, 102, 156],\n",
        " [8, 878, 134, 351, 102, 156, 199],\n",
        " [16, 22],\n",
        " [16, 22, 2],\n",
        " [16, 22, 2, 879],\n",
        " [16, 22, 2, 879, 61],\n",
        " [16, 22, 2, 879, 61, 30],\n",
        " [16, 22, 2, 879, 61, 30, 48],\n",
        " [16, 22, 2, 879, 61, 30, 48, 634],\n",
        " [25, 311],\n",
        " [25, 311, 635],\n",
        " [25, 311, 635, 102],\n",
        " [25, 311, 635, 102, 200],\n",
        " [25, 311, 635, 102, 200, 25],\n",
        " [25, 311, 635, 102, 200, 25, 278]]\n",
        "```"
      ]
    },
    {
      "cell_type": "markdown",
      "metadata": {
        "id": "dx3V_RjFWQSu"
      },
      "source": [
        "Apply the `n_gram_seqs` transformation to the whole corpus and save the maximum sequence length to use it later:"
      ]
    },
    {
      "cell_type": "code",
      "execution_count": 15,
      "metadata": {
        "id": "laMwiRUpmuSd",
        "outputId": "542c5f1c-ebca-4d80-bba0-221793eba690",
        "colab": {
          "base_uri": "https://localhost:8080/"
        }
      },
      "outputs": [
        {
          "output_type": "stream",
          "name": "stdout",
          "text": [
            "n_grams of input_sequences have length: 15462\n",
            "maximum length of sequences is: 11\n"
          ]
        }
      ],
      "source": [
        "# Apply the n_gram_seqs transformation to the whole corpus\n",
        "input_sequences = n_gram_seqs(corpus, tokenizer)\n",
        "\n",
        "# Save max length \n",
        "max_sequence_len = max([len(x) for x in input_sequences])\n",
        "\n",
        "print(f\"n_grams of input_sequences have length: {len(input_sequences)}\")\n",
        "print(f\"maximum length of sequences is: {max_sequence_len}\")"
      ]
    },
    {
      "cell_type": "markdown",
      "metadata": {
        "id": "2OciMdmEdE9L"
      },
      "source": [
        "**Expected Output:**\n",
        "\n",
        "```\n",
        "n_grams of input_sequences have length: 15462\n",
        "maximum length of sequences is: 11\n",
        "```"
      ]
    },
    {
      "cell_type": "markdown",
      "metadata": {
        "id": "zHY7HroqWq12"
      },
      "source": [
        "## Add padding to the sequences\n",
        "\n",
        "Now code the `pad_seqs` function which will pad any given sequences to the desired maximum length. Notice that this function receives a list of sequences and should return a numpy array with the padded sequences: "
      ]
    },
    {
      "cell_type": "code",
      "execution_count": 16,
      "metadata": {
        "cellView": "code",
        "id": "WW1-qAZaWOhC"
      },
      "outputs": [],
      "source": [
        "# GRADED FUNCTION: pad_seqs\n",
        "def pad_seqs(input_sequences, maxlen):\n",
        "    ### START CODE HERE\n",
        "    padded_sequences = np.array(pad_sequences(input_sequences,maxlen=max_sequence_len,padding = 'pre'))\n",
        "    \n",
        "    return padded_sequences\n",
        "    ### END CODE HERE"
      ]
    },
    {
      "cell_type": "code",
      "execution_count": 17,
      "metadata": {
        "id": "IqVQ0pb3YHLr",
        "outputId": "cd49f2bb-0f45-444d-e8c7-fda0cf9c42c4",
        "colab": {
          "base_uri": "https://localhost:8080/"
        }
      },
      "outputs": [
        {
          "output_type": "execute_result",
          "data": {
            "text/plain": [
              "array([[  0,   0,   0,   0,   0,   0,   0,   0,   0,  34, 417],\n",
              "       [  0,   0,   0,   0,   0,   0,   0,   0,  34, 417, 877],\n",
              "       [  0,   0,   0,   0,   0,   0,   0,  34, 417, 877, 166],\n",
              "       [  0,   0,   0,   0,   0,   0,  34, 417, 877, 166, 213],\n",
              "       [  0,   0,   0,   0,   0,  34, 417, 877, 166, 213, 517]],\n",
              "      dtype=int32)"
            ]
          },
          "metadata": {},
          "execution_count": 17
        }
      ],
      "source": [
        "# Test your function with the n_grams_seq of the first example\n",
        "first_padded_seq = pad_seqs(first_example_sequence, len(first_example_sequence))\n",
        "first_padded_seq"
      ]
    },
    {
      "cell_type": "markdown",
      "metadata": {
        "id": "Re_avDznXRnU"
      },
      "source": [
        "**Expected Output:**\n",
        "\n",
        "```\n",
        "array([[  0,   0,   0,  34, 417],\n",
        "       [  0,   0,  34, 417, 877],\n",
        "       [  0,  34, 417, 877, 166],\n",
        "       [ 34, 417, 877, 166, 213],\n",
        "       [417, 877, 166, 213, 517]], dtype=int32)\n",
        "```"
      ]
    },
    {
      "cell_type": "code",
      "execution_count": 18,
      "metadata": {
        "id": "j56_UCOBYzZt",
        "outputId": "e38eca56-a605-4d18-9638-13064a8dec5f",
        "colab": {
          "base_uri": "https://localhost:8080/"
        }
      },
      "outputs": [
        {
          "output_type": "execute_result",
          "data": {
            "text/plain": [
              "array([[  0,   0,   0,   0,   0,   0,   0,   0,   0,   8, 878],\n",
              "       [  0,   0,   0,   0,   0,   0,   0,   0,   8, 878, 134],\n",
              "       [  0,   0,   0,   0,   0,   0,   0,   8, 878, 134, 351],\n",
              "       [  0,   0,   0,   0,   0,   0,   8, 878, 134, 351, 102],\n",
              "       [  0,   0,   0,   0,   0,   8, 878, 134, 351, 102, 156],\n",
              "       [  0,   0,   0,   0,   8, 878, 134, 351, 102, 156, 199],\n",
              "       [  0,   0,   0,   0,   0,   0,   0,   0,   0,  16,  22],\n",
              "       [  0,   0,   0,   0,   0,   0,   0,   0,  16,  22,   2],\n",
              "       [  0,   0,   0,   0,   0,   0,   0,  16,  22,   2, 879],\n",
              "       [  0,   0,   0,   0,   0,   0,  16,  22,   2, 879,  61],\n",
              "       [  0,   0,   0,   0,   0,  16,  22,   2, 879,  61,  30],\n",
              "       [  0,   0,   0,   0,  16,  22,   2, 879,  61,  30,  48],\n",
              "       [  0,   0,   0,  16,  22,   2, 879,  61,  30,  48, 634],\n",
              "       [  0,   0,   0,   0,   0,   0,   0,   0,   0,  25, 311],\n",
              "       [  0,   0,   0,   0,   0,   0,   0,   0,  25, 311, 635],\n",
              "       [  0,   0,   0,   0,   0,   0,   0,  25, 311, 635, 102],\n",
              "       [  0,   0,   0,   0,   0,   0,  25, 311, 635, 102, 200],\n",
              "       [  0,   0,   0,   0,   0,  25, 311, 635, 102, 200,  25],\n",
              "       [  0,   0,   0,   0,  25, 311, 635, 102, 200,  25, 278]],\n",
              "      dtype=int32)"
            ]
          },
          "metadata": {},
          "execution_count": 18
        }
      ],
      "source": [
        "# Test your function with the n_grams_seq of the next 3 examples\n",
        "next_3_padded_seq = pad_seqs(next_3_examples_sequence, max([len(s) for s in next_3_examples_sequence]))\n",
        "next_3_padded_seq"
      ]
    },
    {
      "cell_type": "markdown",
      "metadata": {
        "id": "3rmcDluOXcIU"
      },
      "source": [
        "**Expected Output:**\n",
        "\n",
        "```\n",
        "array([[  0,   0,   0,   0,   0,   0,   8, 878],\n",
        "       [  0,   0,   0,   0,   0,   8, 878, 134],\n",
        "       [  0,   0,   0,   0,   8, 878, 134, 351],\n",
        "       [  0,   0,   0,   8, 878, 134, 351, 102],\n",
        "       [  0,   0,   8, 878, 134, 351, 102, 156],\n",
        "       [  0,   8, 878, 134, 351, 102, 156, 199],\n",
        "       [  0,   0,   0,   0,   0,   0,  16,  22],\n",
        "       [  0,   0,   0,   0,   0,  16,  22,   2],\n",
        "       [  0,   0,   0,   0,  16,  22,   2, 879],\n",
        "       [  0,   0,   0,  16,  22,   2, 879,  61],\n",
        "       [  0,   0,  16,  22,   2, 879,  61,  30],\n",
        "       [  0,  16,  22,   2, 879,  61,  30,  48],\n",
        "       [ 16,  22,   2, 879,  61,  30,  48, 634],\n",
        "       [  0,   0,   0,   0,   0,   0,  25, 311],\n",
        "       [  0,   0,   0,   0,   0,  25, 311, 635],\n",
        "       [  0,   0,   0,   0,  25, 311, 635, 102],\n",
        "       [  0,   0,   0,  25, 311, 635, 102, 200],\n",
        "       [  0,   0,  25, 311, 635, 102, 200,  25],\n",
        "       [  0,  25, 311, 635, 102, 200,  25, 278]], dtype=int32)\n",
        "```"
      ]
    },
    {
      "cell_type": "code",
      "execution_count": 19,
      "metadata": {
        "id": "rgK-Q_micEYA",
        "outputId": "1e985390-a66c-4dbc-f370-059017d047e9",
        "colab": {
          "base_uri": "https://localhost:8080/"
        }
      },
      "outputs": [
        {
          "output_type": "stream",
          "name": "stdout",
          "text": [
            "padded corpus has shape: (15462, 11)\n"
          ]
        }
      ],
      "source": [
        "# Pad the whole corpus\n",
        "input_sequences = pad_seqs(input_sequences, max_sequence_len)\n",
        "\n",
        "print(f\"padded corpus has shape: {input_sequences.shape}\")"
      ]
    },
    {
      "cell_type": "markdown",
      "metadata": {
        "id": "59RD1YYNc7CW"
      },
      "source": [
        "**Expected Output:**\n",
        "\n",
        "```\n",
        "padded corpus has shape: (15462, 11)\n",
        "```"
      ]
    },
    {
      "cell_type": "markdown",
      "metadata": {
        "id": "ZbOidyPrXxf7"
      },
      "source": [
        "## Split the data into features and labels\n",
        "\n",
        "Before feeding the data into the neural network you should split it into features and labels. In this case the features will be the padded n_gram sequences with the last word removed from them and the labels will be the removed word.\n",
        "\n",
        "Complete the `features_and_labels` function below. This function expects the padded n_gram sequences as input and should return a tuple containing the features and the one hot encoded labels.\n",
        "\n",
        "Notice that the function also receives the total of words in the corpus, this parameter will be very important when one hot enconding the labels since every word in the corpus will be a label at least once. If you need a refresh of how the `to_categorical` function works take a look at the [docs](https://www.tensorflow.org/api_docs/python/tf/keras/utils/to_categorical)"
      ]
    },
    {
      "cell_type": "code",
      "execution_count": 20,
      "metadata": {
        "cellView": "code",
        "id": "9WGGbYdnZdmJ"
      },
      "outputs": [],
      "source": [
        "# GRADED FUNCTION: features_and_labels\n",
        "import tensorflow as tf\n",
        "def features_and_labels(input_sequences, total_words):\n",
        "    ### START CODE HERE\n",
        "    features = input_sequences[:,:-1]\n",
        "    labels = input_sequences[:,-1]\n",
        "    one_hot_labels = tf.keras.utils.to_categorical(labels,num_classes = total_words)\n",
        "    ### END CODE HERE\n",
        "\n",
        "    return features, one_hot_labels"
      ]
    },
    {
      "cell_type": "code",
      "execution_count": 21,
      "metadata": {
        "id": "23DolaBRaIAZ",
        "outputId": "417b7a8d-d0ca-412a-df5d-94e23be1bf2e",
        "colab": {
          "base_uri": "https://localhost:8080/"
        }
      },
      "outputs": [
        {
          "output_type": "stream",
          "name": "stdout",
          "text": [
            "labels have shape: (5, 3211)\n",
            "\n",
            "features look like this:\n",
            "\n"
          ]
        },
        {
          "output_type": "execute_result",
          "data": {
            "text/plain": [
              "array([[  0,   0,   0,   0,   0,   0,   0,   0,   0,  34],\n",
              "       [  0,   0,   0,   0,   0,   0,   0,   0,  34, 417],\n",
              "       [  0,   0,   0,   0,   0,   0,   0,  34, 417, 877],\n",
              "       [  0,   0,   0,   0,   0,   0,  34, 417, 877, 166],\n",
              "       [  0,   0,   0,   0,   0,  34, 417, 877, 166, 213]], dtype=int32)"
            ]
          },
          "metadata": {},
          "execution_count": 21
        }
      ],
      "source": [
        "# Test your function with the padded n_grams_seq of the first example\n",
        "first_features, first_labels = features_and_labels(first_padded_seq, total_words)\n",
        "\n",
        "print(f\"labels have shape: {first_labels.shape}\")\n",
        "print(\"\\nfeatures look like this:\\n\")\n",
        "first_features"
      ]
    },
    {
      "cell_type": "markdown",
      "metadata": {
        "id": "7t4yAx2UaQ43"
      },
      "source": [
        "**Expected Output:**\n",
        "\n",
        "```\n",
        "labels have shape: (5, 3211)\n",
        "\n",
        "features look like this:\n",
        "\n",
        "array([[  0,   0,   0,  34],\n",
        "       [  0,   0,  34, 417],\n",
        "       [  0,  34, 417, 877],\n",
        "       [ 34, 417, 877, 166],\n",
        "       [417, 877, 166, 213]], dtype=int32)\n",
        "```"
      ]
    },
    {
      "cell_type": "code",
      "execution_count": 22,
      "metadata": {
        "id": "GRTuLEt3bRKa",
        "outputId": "f00b17ec-9403-436e-e25d-aae49dfc5aa7",
        "colab": {
          "base_uri": "https://localhost:8080/"
        }
      },
      "outputs": [
        {
          "output_type": "stream",
          "name": "stdout",
          "text": [
            "features have shape: (15462, 10)\n",
            "labels have shape: (15462, 3211)\n"
          ]
        }
      ],
      "source": [
        "# Split the whole corpus\n",
        "features, labels = features_and_labels(input_sequences, total_words)\n",
        "\n",
        "print(f\"features have shape: {features.shape}\")\n",
        "print(f\"labels have shape: {labels.shape}\")"
      ]
    },
    {
      "cell_type": "markdown",
      "metadata": {
        "id": "xXSMK_HpdLns"
      },
      "source": [
        "**Expected Output:**\n",
        "\n",
        "```\n",
        "features have shape: (15462, 10)\n",
        "labels have shape: (15462, 3211)\n",
        "```"
      ]
    },
    {
      "cell_type": "markdown",
      "metadata": {
        "id": "ltxaOCE_aU6J"
      },
      "source": [
        "## Create the model\n",
        "\n",
        "Now you should define a model architecture capable of achieving an accuracy of at least 80%.\n",
        "\n",
        "Some hints to help you in this task:\n",
        "\n",
        "- An appropriate `output_dim` for the first layer (Embedding) is 100, this is already provided for you.\n",
        "- A Bidirectional LSTM is helpful for this particular problem.\n",
        "- The last layer should have the same number of units as the total number of words in the corpus and a softmax activation function.\n",
        "- This problem can be solved with only two layers (excluding the Embedding) so try out small architectures first."
      ]
    },
    {
      "cell_type": "code",
      "execution_count": 29,
      "metadata": {
        "cellView": "code",
        "id": "XrE6kpJFfvRY"
      },
      "outputs": [],
      "source": [
        "# GRADED FUNCTION: create_model\n",
        "def create_model(total_words, max_sequence_len):\n",
        "    \n",
        "    model = Sequential()\n",
        "    ### START CODE HERE\n",
        "    model.add(Embedding(total_words, 100, input_length = max_sequence_len-1))# 这里要减去1\n",
        "    model.add(Bidirectional(LSTM(150)))\n",
        "    model.add(Dense(total_words,activation='softmax'))\n",
        "\n",
        "\n",
        "    # Compile the model\n",
        "    model.compile(loss='categorical_crossentropy',\n",
        "                  optimizer='adam',\n",
        "                  metrics=['accuracy'])\n",
        "    \n",
        "    ### END CODE HERE\n",
        "\n",
        "    return model"
      ]
    },
    {
      "cell_type": "code",
      "execution_count": 30,
      "metadata": {
        "id": "0IpX_Gu_gISk",
        "outputId": "21627562-a6fc-407c-ab14-d1472027a4b9",
        "colab": {
          "base_uri": "https://localhost:8080/"
        }
      },
      "outputs": [
        {
          "output_type": "stream",
          "name": "stdout",
          "text": [
            "Epoch 1/100\n",
            "484/484 [==============================] - 12s 17ms/step - loss: 6.8830 - accuracy: 0.0230\n",
            "Epoch 2/100\n",
            "484/484 [==============================] - 8s 17ms/step - loss: 6.4347 - accuracy: 0.0316\n",
            "Epoch 3/100\n",
            "484/484 [==============================] - 8s 16ms/step - loss: 6.1941 - accuracy: 0.0407\n",
            "Epoch 4/100\n",
            "484/484 [==============================] - 8s 17ms/step - loss: 5.9299 - accuracy: 0.0515\n",
            "Epoch 5/100\n",
            "484/484 [==============================] - 8s 17ms/step - loss: 5.6274 - accuracy: 0.0634\n",
            "Epoch 6/100\n",
            "484/484 [==============================] - 8s 17ms/step - loss: 5.2863 - accuracy: 0.0752\n",
            "Epoch 7/100\n",
            "484/484 [==============================] - 8s 17ms/step - loss: 4.9075 - accuracy: 0.0925\n",
            "Epoch 8/100\n",
            "484/484 [==============================] - 8s 17ms/step - loss: 4.4996 - accuracy: 0.1228\n",
            "Epoch 9/100\n",
            "484/484 [==============================] - 8s 17ms/step - loss: 4.0838 - accuracy: 0.1748\n",
            "Epoch 10/100\n",
            "484/484 [==============================] - 8s 17ms/step - loss: 3.6732 - accuracy: 0.2398\n",
            "Epoch 11/100\n",
            "484/484 [==============================] - 8s 17ms/step - loss: 3.2820 - accuracy: 0.3141\n",
            "Epoch 12/100\n",
            "484/484 [==============================] - 8s 17ms/step - loss: 2.9373 - accuracy: 0.3808\n",
            "Epoch 13/100\n",
            "484/484 [==============================] - 8s 17ms/step - loss: 2.6349 - accuracy: 0.4432\n",
            "Epoch 14/100\n",
            "484/484 [==============================] - 8s 17ms/step - loss: 2.3640 - accuracy: 0.4975\n",
            "Epoch 15/100\n",
            "484/484 [==============================] - 8s 17ms/step - loss: 2.1360 - accuracy: 0.5491\n",
            "Epoch 16/100\n",
            "484/484 [==============================] - 8s 17ms/step - loss: 1.9327 - accuracy: 0.5879\n",
            "Epoch 17/100\n",
            "484/484 [==============================] - 8s 17ms/step - loss: 1.7547 - accuracy: 0.6307\n",
            "Epoch 18/100\n",
            "484/484 [==============================] - 8s 17ms/step - loss: 1.5931 - accuracy: 0.6676\n",
            "Epoch 19/100\n",
            "484/484 [==============================] - 8s 17ms/step - loss: 1.4541 - accuracy: 0.6975\n",
            "Epoch 20/100\n",
            "484/484 [==============================] - 8s 17ms/step - loss: 1.3292 - accuracy: 0.7264\n",
            "Epoch 21/100\n",
            "484/484 [==============================] - 8s 17ms/step - loss: 1.2203 - accuracy: 0.7487\n",
            "Epoch 22/100\n",
            "484/484 [==============================] - 8s 17ms/step - loss: 1.1216 - accuracy: 0.7705\n",
            "Epoch 23/100\n",
            "484/484 [==============================] - 8s 17ms/step - loss: 1.0371 - accuracy: 0.7856\n",
            "Epoch 24/100\n",
            "484/484 [==============================] - 8s 17ms/step - loss: 0.9752 - accuracy: 0.7976\n",
            "Epoch 25/100\n",
            "484/484 [==============================] - 8s 17ms/step - loss: 0.9122 - accuracy: 0.8096\n",
            "Epoch 26/100\n",
            "484/484 [==============================] - 8s 17ms/step - loss: 0.8596 - accuracy: 0.8159\n",
            "Epoch 27/100\n",
            "484/484 [==============================] - 8s 17ms/step - loss: 0.8239 - accuracy: 0.8204\n",
            "Epoch 28/100\n",
            "484/484 [==============================] - 8s 17ms/step - loss: 0.7768 - accuracy: 0.8268\n",
            "Epoch 29/100\n",
            "484/484 [==============================] - 8s 17ms/step - loss: 0.7431 - accuracy: 0.8335\n",
            "Epoch 30/100\n",
            "484/484 [==============================] - 8s 17ms/step - loss: 0.7196 - accuracy: 0.8360\n",
            "Epoch 31/100\n",
            "484/484 [==============================] - 8s 17ms/step - loss: 0.6977 - accuracy: 0.8393\n",
            "Epoch 32/100\n",
            "484/484 [==============================] - 8s 17ms/step - loss: 0.6841 - accuracy: 0.8396\n",
            "Epoch 33/100\n",
            "484/484 [==============================] - 8s 17ms/step - loss: 0.6698 - accuracy: 0.8420\n",
            "Epoch 34/100\n",
            "484/484 [==============================] - 8s 17ms/step - loss: 0.6524 - accuracy: 0.8437\n",
            "Epoch 35/100\n",
            "484/484 [==============================] - 8s 16ms/step - loss: 0.6327 - accuracy: 0.8469\n",
            "Epoch 36/100\n",
            "484/484 [==============================] - 8s 16ms/step - loss: 0.6269 - accuracy: 0.8462\n",
            "Epoch 37/100\n",
            "484/484 [==============================] - 8s 16ms/step - loss: 0.6177 - accuracy: 0.8466\n",
            "Epoch 38/100\n",
            "484/484 [==============================] - 8s 16ms/step - loss: 0.6133 - accuracy: 0.8472\n",
            "Epoch 39/100\n",
            "484/484 [==============================] - 8s 16ms/step - loss: 0.6081 - accuracy: 0.8462\n",
            "Epoch 40/100\n",
            "484/484 [==============================] - 8s 16ms/step - loss: 0.5997 - accuracy: 0.8487\n",
            "Epoch 41/100\n",
            "484/484 [==============================] - 8s 16ms/step - loss: 0.5949 - accuracy: 0.8472\n",
            "Epoch 42/100\n",
            "484/484 [==============================] - 8s 16ms/step - loss: 0.5942 - accuracy: 0.8470\n",
            "Epoch 43/100\n",
            "484/484 [==============================] - 8s 16ms/step - loss: 0.5820 - accuracy: 0.8490\n",
            "Epoch 44/100\n",
            "484/484 [==============================] - 8s 16ms/step - loss: 0.5757 - accuracy: 0.8486\n",
            "Epoch 45/100\n",
            "484/484 [==============================] - 8s 16ms/step - loss: 0.5794 - accuracy: 0.8497\n",
            "Epoch 46/100\n",
            "484/484 [==============================] - 8s 16ms/step - loss: 0.5740 - accuracy: 0.8490\n",
            "Epoch 47/100\n",
            "484/484 [==============================] - 8s 16ms/step - loss: 0.5679 - accuracy: 0.8500\n",
            "Epoch 48/100\n",
            "484/484 [==============================] - 8s 16ms/step - loss: 0.5671 - accuracy: 0.8492\n",
            "Epoch 49/100\n",
            "484/484 [==============================] - 8s 16ms/step - loss: 0.5626 - accuracy: 0.8483\n",
            "Epoch 50/100\n",
            "484/484 [==============================] - 8s 16ms/step - loss: 0.5656 - accuracy: 0.8477\n",
            "Epoch 51/100\n",
            "484/484 [==============================] - 8s 16ms/step - loss: 0.5578 - accuracy: 0.8496\n",
            "Epoch 52/100\n",
            "484/484 [==============================] - 8s 16ms/step - loss: 0.5639 - accuracy: 0.8477\n",
            "Epoch 53/100\n",
            "484/484 [==============================] - 8s 16ms/step - loss: 0.5618 - accuracy: 0.8491\n",
            "Epoch 54/100\n",
            "484/484 [==============================] - 8s 16ms/step - loss: 0.5598 - accuracy: 0.8491\n",
            "Epoch 55/100\n",
            "484/484 [==============================] - 8s 16ms/step - loss: 0.5510 - accuracy: 0.8498\n",
            "Epoch 56/100\n",
            "484/484 [==============================] - 8s 16ms/step - loss: 0.5550 - accuracy: 0.8485\n",
            "Epoch 57/100\n",
            "484/484 [==============================] - 8s 16ms/step - loss: 0.5468 - accuracy: 0.8501\n",
            "Epoch 58/100\n",
            "484/484 [==============================] - 8s 16ms/step - loss: 0.5484 - accuracy: 0.8492\n",
            "Epoch 59/100\n",
            "484/484 [==============================] - 8s 16ms/step - loss: 0.5447 - accuracy: 0.8494\n",
            "Epoch 60/100\n",
            "484/484 [==============================] - 8s 16ms/step - loss: 0.5419 - accuracy: 0.8505\n",
            "Epoch 61/100\n",
            "484/484 [==============================] - 8s 16ms/step - loss: 0.5426 - accuracy: 0.8496\n",
            "Epoch 62/100\n",
            "484/484 [==============================] - 8s 16ms/step - loss: 0.5423 - accuracy: 0.8505\n",
            "Epoch 63/100\n",
            "484/484 [==============================] - 8s 16ms/step - loss: 0.5400 - accuracy: 0.8496\n",
            "Epoch 64/100\n",
            "484/484 [==============================] - 8s 16ms/step - loss: 0.5387 - accuracy: 0.8507\n",
            "Epoch 65/100\n",
            "484/484 [==============================] - 8s 16ms/step - loss: 0.5418 - accuracy: 0.8484\n",
            "Epoch 66/100\n",
            "484/484 [==============================] - 8s 16ms/step - loss: 0.5357 - accuracy: 0.8494\n",
            "Epoch 67/100\n",
            "484/484 [==============================] - 8s 16ms/step - loss: 0.5345 - accuracy: 0.8487\n",
            "Epoch 68/100\n",
            "484/484 [==============================] - 8s 16ms/step - loss: 0.5325 - accuracy: 0.8493\n",
            "Epoch 69/100\n",
            "484/484 [==============================] - 8s 16ms/step - loss: 0.5318 - accuracy: 0.8496\n",
            "Epoch 70/100\n",
            "484/484 [==============================] - 8s 16ms/step - loss: 0.5309 - accuracy: 0.8504\n",
            "Epoch 71/100\n",
            "484/484 [==============================] - 8s 16ms/step - loss: 0.5303 - accuracy: 0.8504\n",
            "Epoch 72/100\n",
            "484/484 [==============================] - 8s 16ms/step - loss: 0.5399 - accuracy: 0.8476\n",
            "Epoch 73/100\n",
            "484/484 [==============================] - 8s 16ms/step - loss: 0.5406 - accuracy: 0.8484\n",
            "Epoch 74/100\n",
            "484/484 [==============================] - 8s 16ms/step - loss: 0.5278 - accuracy: 0.8500\n",
            "Epoch 75/100\n",
            "484/484 [==============================] - 8s 16ms/step - loss: 0.5227 - accuracy: 0.8487\n",
            "Epoch 76/100\n",
            "484/484 [==============================] - 8s 16ms/step - loss: 0.5240 - accuracy: 0.8500\n",
            "Epoch 77/100\n",
            "484/484 [==============================] - 8s 16ms/step - loss: 0.5219 - accuracy: 0.8493\n",
            "Epoch 78/100\n",
            "484/484 [==============================] - 8s 16ms/step - loss: 0.5188 - accuracy: 0.8508\n",
            "Epoch 79/100\n",
            "484/484 [==============================] - 8s 16ms/step - loss: 0.5181 - accuracy: 0.8501\n",
            "Epoch 80/100\n",
            "484/484 [==============================] - 8s 16ms/step - loss: 0.5193 - accuracy: 0.8513\n",
            "Epoch 81/100\n",
            "484/484 [==============================] - 8s 16ms/step - loss: 0.5290 - accuracy: 0.8476\n",
            "Epoch 82/100\n",
            "484/484 [==============================] - 8s 16ms/step - loss: 0.5427 - accuracy: 0.8445\n",
            "Epoch 83/100\n",
            "484/484 [==============================] - 8s 16ms/step - loss: 0.5196 - accuracy: 0.8496\n",
            "Epoch 84/100\n",
            "484/484 [==============================] - 8s 16ms/step - loss: 0.5123 - accuracy: 0.8505\n",
            "Epoch 85/100\n",
            "484/484 [==============================] - 8s 16ms/step - loss: 0.5123 - accuracy: 0.8512\n",
            "Epoch 86/100\n",
            "484/484 [==============================] - 8s 16ms/step - loss: 0.5134 - accuracy: 0.8492\n",
            "Epoch 87/100\n",
            "484/484 [==============================] - 8s 16ms/step - loss: 0.5138 - accuracy: 0.8501\n",
            "Epoch 88/100\n",
            "484/484 [==============================] - 8s 16ms/step - loss: 0.5121 - accuracy: 0.8506\n",
            "Epoch 89/100\n",
            "484/484 [==============================] - 8s 16ms/step - loss: 0.5166 - accuracy: 0.8503\n",
            "Epoch 90/100\n",
            "484/484 [==============================] - 8s 16ms/step - loss: 0.5174 - accuracy: 0.8494\n",
            "Epoch 91/100\n",
            "484/484 [==============================] - 8s 16ms/step - loss: 0.5131 - accuracy: 0.8500\n",
            "Epoch 92/100\n",
            "484/484 [==============================] - 8s 16ms/step - loss: 0.5101 - accuracy: 0.8505\n",
            "Epoch 93/100\n",
            "484/484 [==============================] - 8s 16ms/step - loss: 0.5090 - accuracy: 0.8507\n",
            "Epoch 94/100\n",
            "484/484 [==============================] - 8s 16ms/step - loss: 0.5081 - accuracy: 0.8496\n",
            "Epoch 95/100\n",
            "484/484 [==============================] - 8s 16ms/step - loss: 0.5091 - accuracy: 0.8515\n",
            "Epoch 96/100\n",
            "484/484 [==============================] - 8s 16ms/step - loss: 0.5198 - accuracy: 0.8481\n",
            "Epoch 97/100\n",
            "484/484 [==============================] - 8s 16ms/step - loss: 0.5305 - accuracy: 0.8450\n",
            "Epoch 98/100\n",
            "484/484 [==============================] - 8s 16ms/step - loss: 0.5117 - accuracy: 0.8491\n",
            "Epoch 99/100\n",
            "484/484 [==============================] - 8s 16ms/step - loss: 0.5020 - accuracy: 0.8509\n",
            "Epoch 100/100\n",
            "484/484 [==============================] - 8s 16ms/step - loss: 0.5018 - accuracy: 0.8513\n"
          ]
        }
      ],
      "source": [
        "# Get the untrained model\n",
        "model = create_model(total_words, max_sequence_len)\n",
        "\n",
        "# Train the model\n",
        "history = model.fit(features, labels, epochs=100, verbose=1)"
      ]
    },
    {
      "cell_type": "markdown",
      "metadata": {
        "id": "gy72RPgly55q"
      },
      "source": [
        "**To pass this assignment, your model should achieve a training accuracy of at least 80%**. If your model didn't achieve this threshold, try training again with a different model architecture, consider increasing the number of unit in your `LSTM` layer."
      ]
    },
    {
      "cell_type": "code",
      "execution_count": 31,
      "metadata": {
        "id": "1fXTEO3GJ282",
        "outputId": "c0709c62-d949-47a0-8630-9dc9010faac9",
        "colab": {
          "base_uri": "https://localhost:8080/",
          "height": 545
        }
      },
      "outputs": [
        {
          "output_type": "display_data",
          "data": {
            "text/plain": [
              "<Figure size 432x288 with 1 Axes>"
            ],
            "image/png": "[encoded data removed]"
          },
          "metadata": {
            "needs_background": "light"
          }
        },
        {
          "output_type": "display_data",
          "data": {
            "text/plain": [
              "<Figure size 432x288 with 1 Axes>"
            ],
            "image/png": "[encoded data removed]"
          },
          "metadata": {
            "needs_background": "light"
          }
        }
      ],
      "source": [
        "# Take a look at the training curves of your model\n",
        "\n",
        "acc = history.history['accuracy']\n",
        "loss = history.history['loss']\n",
        "\n",
        "epochs = range(len(acc))\n",
        "\n",
        "plt.plot(epochs, acc, 'b', label='Training accuracy')\n",
        "plt.title('Training accuracy')\n",
        "\n",
        "plt.figure()\n",
        "\n",
        "plt.plot(epochs, loss, 'b', label='Training Loss')\n",
        "plt.title('Training loss')\n",
        "plt.legend()\n",
        "\n",
        "plt.show()"
      ]
    },
    {
      "cell_type": "markdown",
      "metadata": {
        "id": "OjvED5A3qrn2"
      },
      "source": [
        "Before closing the assignment, be sure to also download the `history.pkl` file which contains the information of the training history of your model and will be used to compute your grade. You can download this file by running the cell below:"
      ]
    },
    {
      "cell_type": "code",
      "execution_count": null,
      "metadata": {
        "id": "9QRG73l6qE-c"
      },
      "outputs": [],
      "source": [
        "def download_history():\n",
        "  import pickle\n",
        "  from google.colab import files\n",
        "\n",
        "  with open('history.pkl', 'wb') as f:\n",
        "    pickle.dump(history.history, f)\n",
        "\n",
        "  files.download('history.pkl')\n",
        "\n",
        "download_history()"
      ]
    },
    {
      "cell_type": "markdown",
      "metadata": {
        "id": "wdsMszk9zBs_"
      },
      "source": [
        "## See your model in action\n",
        "\n",
        "After all your work it is finally time to see your model generating text. \n",
        "\n",
        "Run the cell below to generate the next 100 words of a seed text.\n",
        "\n",
        "After submitting your assignment you are encouraged to try out training for different amounts of epochs and seeing how this affects the coherency of the generated text. Also try changing the seed text to see what you get!"
      ]
    },
    {
      "cell_type": "code",
      "execution_count": 32,
      "metadata": {
        "id": "6Vc6PHgxa6Hm",
        "outputId": "fcb0154b-0cef-4167-d069-49ef1f5ef34d",
        "colab": {
          "base_uri": "https://localhost:8080/"
        }
      },
      "outputs": [
        {
          "output_type": "stream",
          "name": "stdout",
          "text": [
            "Help me Obi Wan Kenobi, you're my only hope my brow hate still ' ' knows new still bright do ' show thee it o not say not such dear heart ' could show you ' ' it knows in me friend not sharpen'd in me alone writ ' so those made of ill or thee of thee nought gavest it is face so bold old ten of crime swear to thee you doth thought it bright blind knows you not best ' blot me me for me fair art lies no fair can bail not fresher right to show thee trust single own glory bright doth themselves tripping\n"
          ]
        }
      ],
      "source": [
        "seed_text = \"Help me Obi Wan Kenobi, you're my only hope\"\n",
        "next_words = 100\n",
        "  \n",
        "for _ in range(next_words):\n",
        "\t# Convert the text into sequences\n",
        "\ttoken_list = tokenizer.texts_to_sequences([seed_text])[0]\n",
        "\t# Pad the sequences\n",
        "\ttoken_list = pad_sequences([token_list], maxlen=max_sequence_len-1, padding='pre')\n",
        "\t# Get the probabilities of predicting a word\n",
        "\tpredicted = model.predict(token_list, verbose=0)\n",
        "\t# Choose the next word based on the maximum probability\n",
        "\tpredicted = np.argmax(predicted, axis=-1).item()\n",
        "\t# Get the actual word from the word index\n",
        "\toutput_word = tokenizer.index_word[predicted]\n",
        "\t# Append to the current text\n",
        "\tseed_text += \" \" + output_word\n",
        "\n",
        "print(seed_text)"
      ]
    },
    {
      "cell_type": "markdown",
      "metadata": {
        "id": "oQVDbdcYqSux"
      },
      "source": [
        "You will also need to submit this notebook for grading. To download it, click on the File tab in the upper left corner of the screen then click on Download -> Download .ipynb. You can name it anything you want as long as it is a valid .ipynb (jupyter notebook) file.\n",
        "\n",
        "**Congratulations on finishing this week's assignment!**\n",
        "\n",
        "You have successfully implemented a neural network capable of predicting the next word in a sequence of text!\n",
        "\n",
        "**We hope to see you in the next course of the specialization! Keep it up!**"
      ]
    }
  ],
  "metadata": {
    "jupytext": {
      "main_language": "python"
    },
    "accelerator": "GPU",
    "kernelspec": {
      "display_name": "Python 3",
      "name": "python3"
    },
    "colab": {
      "name": "C3W4_Assignment.ipynb",
      "provenance": []
    }
  },
  "nbformat": 4,
  "nbformat_minor": 0
}